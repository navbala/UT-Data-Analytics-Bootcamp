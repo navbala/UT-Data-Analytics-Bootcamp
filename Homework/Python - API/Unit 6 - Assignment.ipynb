{
 "cells": [
  {
   "cell_type": "code",
   "execution_count": 1,
   "metadata": {
    "collapsed": true
   },
   "outputs": [],
   "source": [
    "# Import Dependencies\n",
    "import requests as req\n",
    "import json\n",
    "from citipy import citipy\n",
    "from random import uniform\n",
    "import pandas as pd"
   ]
  },
  {
   "cell_type": "code",
   "execution_count": 2,
   "metadata": {
    "collapsed": true
   },
   "outputs": [],
   "source": [
    "# API config info\n",
    "api_key = \"84fe59f3ffa1bf7920c39149bf3dde70\"\n",
    "url = \"http://api.openweathermap.org/data/2.5/weather?\""
   ]
  },
  {
   "cell_type": "code",
   "execution_count": 3,
   "metadata": {},
   "outputs": [
    {
     "name": "stdout",
     "output_type": "stream",
     "text": [
      "['esperance', 'hofn', 'the+pas', 'barrow', 'sao+gabriel+da+cachoeira', 'nanortalik', 'thompson', 'nanortalik', 'georgetown', 'kapaa', 'talnakh', 'vitim', 'san+quintin', 'port+elizabeth', 'port+elizabeth', 'butaritari', 'mataura', 'bilibino', 'zaltan', 'isangel', 'taolanaro', 'chuy', 'hobart', 'east+london', 'provideniya', 'illoqqortoormiut', 'punta+arenas', 'hithadhoo', 'taolanaro', 'yanam', 'solnechnyy', 'ushuaia', 'laguna', 'hermanus', 'atuona', 'jamestown', 'hithadhoo', 'puerto+ayora', 'yellowknife', 'puerto+ayora', 'thompson', 'gap', 'mataura', 'albany', 'sergeyevka', 'rikitea', 'new+norfolk', 'asind', 'albany', 'rikitea']\n"
     ]
    }
   ],
   "source": [
    "# Generate random lng/lat to put into citipy (citipy take in 2 coordinates (lng, lat))\n",
    "\n",
    "## test\n",
    "# city = citipy.nearest_city(22.99, 120.21)\n",
    "# city.city_name\n",
    "\n",
    "# code\n",
    "def newpoint():\n",
    "   return uniform(-90, 90), uniform(-180,180)\n",
    "\n",
    "points = [newpoint() for x in range(50)]\n",
    "#print(points)\n",
    "\n",
    "cities_list = []\n",
    "\n",
    "# Create function to loop through the lat/lng tuples, find the nearest cities, and append them to cities_list\n",
    "for lat, lng in points:\n",
    "    # MIGHT NEED to add code to only append non-null cities to list (only if the function can't ALWAYS return a city)\n",
    "    # COULD add if statement to see if city always has associated weather data\n",
    "      #if city == False:\n",
    "    #    print(\"no city\")\n",
    "    city = citipy.nearest_city(lat, lng)\n",
    "    cities_list.append(city.city_name)\n",
    "    \n",
    "\n",
    "# For API calls, replace space with \"+\" in city names       \n",
    "cities_list = [city.replace(\" \", \"+\") for city in cities_list]\n",
    "print(cities_list)\n",
    "        \n",
    "\n",
    "# Perform initial check to see if city even has weather data\n",
    "# If it doesn't, keep regenerating random lat/lng until it does\n",
    "# for city in cities_list:\n",
    "#     query_url = url + \"appid=\" + api_key + \"&q=\" + city + \"&units=imperial\"\n",
    "#     weather_response = req.get(query_url)\n",
    "#     weather_json = weather_response.json()\n",
    "    \n",
    "#     if weather_json[\"cod\"] == \"404\":\n",
    "#         print(\"no weather data\")\n",
    "#         print(query_url)\n",
    "#         print()\n",
    "        \n",
    "#         # While loop  - while weather data is null, \n",
    "#         # keep regenerating random coordinates for new city to check\n",
    "#         #points = list((newpoint() for x in range(1)))\n",
    "#         for lat, lng in points:\n",
    "#             city = citipy.nearest_city(lat, lng)\n",
    "#             new_city = city.city_name\n",
    "#             city = city.replace(city, new city)\n",
    "            \n",
    "            \n",
    "            \n",
    "    \n",
    "    "
   ]
  },
  {
   "cell_type": "code",
   "execution_count": 6,
   "metadata": {},
   "outputs": [
    {
     "name": "stdout",
     "output_type": "stream",
     "text": [
      "no weather data\n",
      "http://api.openweathermap.org/data/2.5/weather?appid=84fe59f3ffa1bf7920c39149bf3dde70&q=taolanaro&units=imperial\n",
      "\n",
      "no weather data\n",
      "http://api.openweathermap.org/data/2.5/weather?appid=84fe59f3ffa1bf7920c39149bf3dde70&q=illoqqortoormiut&units=imperial\n",
      "\n",
      "no weather data\n",
      "http://api.openweathermap.org/data/2.5/weather?appid=84fe59f3ffa1bf7920c39149bf3dde70&q=taolanaro&units=imperial\n",
      "\n"
     ]
    }
   ],
   "source": [
    "# Create for loop to loop through all the cities in cities_list and get the weather data\n",
    "# Add weather data to dataframe\n",
    "\n",
    "weather_data_df = pd.DataFrame(columns=[\"City\",\"Temperature (F)\",\"Humidity (%)\",\"Cloudiness(%)\",\"Wind Speed (mph)\", \"Latitude\"])\n",
    "\n",
    "for city in cities_list:    \n",
    "    # Build query URL\n",
    "    query_url = url + \"appid=\" + api_key + \"&q=\" + city + \"&units=imperial\"\n",
    "\n",
    "    # Get weather data\n",
    "    weather_response = req.get(query_url)\n",
    "    weather_json = weather_response.json()\n",
    "    \n",
    "    #print(city)\n",
    "    \n",
    "    # If statement to check if city actually has weather data\n",
    "    if weather_json[\"cod\"] == \"404\":\n",
    "        print(\"no weather data\")\n",
    "        print(query_url)\n",
    "        print()\n",
    "        \n",
    "        # While loop - while weather data is null, \n",
    "        # keep regenerating random coordinates for new city to check\n",
    "        \n",
    "        \n",
    "    else:\n",
    "        # Print the city, temp, pressure and humidity\n",
    "        weather_data_df = weather_data_df.append([{\"City\": weather_json[\"name\"], \n",
    "                                                   \"Temperature (F)\": weather_json[\"main\"][\"temp\"],\n",
    "                                                   \"Humidity (%)\": weather_json[\"main\"][\"humidity\"],\n",
    "                                                   \"Cloudiness(%)\": weather_json[\"clouds\"][\"all\"],\n",
    "                                                   \"Wind Speed (mph)\": weather_json[\"wind\"][\"speed\"],\n",
    "                                                   \"Latitude\": weather_json[\"coord\"][\"lat\"]\n",
    "                                                  }])\n"
   ]
  },
  {
   "cell_type": "code",
   "execution_count": 7,
   "metadata": {},
   "outputs": [
    {
     "data": {
      "text/html": [
       "<div>\n",
       "<style>\n",
       "    .dataframe thead tr:only-child th {\n",
       "        text-align: right;\n",
       "    }\n",
       "\n",
       "    .dataframe thead th {\n",
       "        text-align: left;\n",
       "    }\n",
       "\n",
       "    .dataframe tbody tr th {\n",
       "        vertical-align: top;\n",
       "    }\n",
       "</style>\n",
       "<table border=\"1\" class=\"dataframe\">\n",
       "  <thead>\n",
       "    <tr style=\"text-align: right;\">\n",
       "      <th></th>\n",
       "      <th>City</th>\n",
       "      <th>Temperature (F)</th>\n",
       "      <th>Humidity (%)</th>\n",
       "      <th>Cloudiness(%)</th>\n",
       "      <th>Wind Speed (mph)</th>\n",
       "      <th>Latitude</th>\n",
       "    </tr>\n",
       "  </thead>\n",
       "  <tbody>\n",
       "    <tr>\n",
       "      <th>0</th>\n",
       "      <td>Esperance</td>\n",
       "      <td>75.20</td>\n",
       "      <td>88</td>\n",
       "      <td>40</td>\n",
       "      <td>5.82</td>\n",
       "      <td>10.24</td>\n",
       "    </tr>\n",
       "    <tr>\n",
       "      <th>0</th>\n",
       "      <td>Hofn</td>\n",
       "      <td>39.49</td>\n",
       "      <td>100</td>\n",
       "      <td>92</td>\n",
       "      <td>1.81</td>\n",
       "      <td>64.25</td>\n",
       "    </tr>\n",
       "    <tr>\n",
       "      <th>0</th>\n",
       "      <td>The Pas</td>\n",
       "      <td>30.20</td>\n",
       "      <td>68</td>\n",
       "      <td>75</td>\n",
       "      <td>10.29</td>\n",
       "      <td>53.82</td>\n",
       "    </tr>\n",
       "    <tr>\n",
       "      <th>0</th>\n",
       "      <td>Barrow</td>\n",
       "      <td>71.98</td>\n",
       "      <td>53</td>\n",
       "      <td>0</td>\n",
       "      <td>7.74</td>\n",
       "      <td>-38.31</td>\n",
       "    </tr>\n",
       "    <tr>\n",
       "      <th>0</th>\n",
       "      <td>Sao Gabriel da Cachoeira</td>\n",
       "      <td>77.74</td>\n",
       "      <td>91</td>\n",
       "      <td>36</td>\n",
       "      <td>2.15</td>\n",
       "      <td>-0.13</td>\n",
       "    </tr>\n",
       "  </tbody>\n",
       "</table>\n",
       "</div>"
      ],
      "text/plain": [
       "                       City  Temperature (F) Humidity (%) Cloudiness(%)  \\\n",
       "0                 Esperance            75.20           88            40   \n",
       "0                      Hofn            39.49          100            92   \n",
       "0                   The Pas            30.20           68            75   \n",
       "0                    Barrow            71.98           53             0   \n",
       "0  Sao Gabriel da Cachoeira            77.74           91            36   \n",
       "\n",
       "   Wind Speed (mph)  Latitude  \n",
       "0              5.82     10.24  \n",
       "0              1.81     64.25  \n",
       "0             10.29     53.82  \n",
       "0              7.74    -38.31  \n",
       "0              2.15     -0.13  "
      ]
     },
     "execution_count": 7,
     "metadata": {},
     "output_type": "execute_result"
    }
   ],
   "source": [
    " weather_data_df.head()"
   ]
  },
  {
   "cell_type": "code",
   "execution_count": 70,
   "metadata": {},
   "outputs": [
    {
     "name": "stdout",
     "output_type": "stream",
     "text": [
      "['nav', 'nit', 'niv', 'ash']\n"
     ]
    }
   ],
   "source": [
    "l = [\"nav\", \"nit\", \"niv\", \"ash\"]\n",
    "\n",
    "for elem in l:\n",
    "    elem.replace(elem, \"homie\") \n",
    "\n",
    "print(l)\n",
    "    "
   ]
  },
  {
   "cell_type": "code",
   "execution_count": 11,
   "metadata": {},
   "outputs": [
    {
     "name": "stdout",
     "output_type": "stream",
     "text": [
      "[2, 3, 4, 5, 6]\n"
     ]
    }
   ],
   "source": [
    "def add(x):\n",
    "    return (x+1) +1\n",
    "z = [add(x) for x in range(5)]\n",
    "print(z)"
   ]
  },
  {
   "cell_type": "code",
   "execution_count": null,
   "metadata": {
    "collapsed": true
   },
   "outputs": [],
   "source": [
    "# Create the necessary graphs from the data frame"
   ]
  }
 ],
 "metadata": {
  "kernelspec": {
   "display_name": "Python 3",
   "language": "python",
   "name": "python3"
  },
  "language_info": {
   "codemirror_mode": {
    "name": "ipython",
    "version": 3
   },
   "file_extension": ".py",
   "mimetype": "text/x-python",
   "name": "python",
   "nbconvert_exporter": "python",
   "pygments_lexer": "ipython3",
   "version": "3.6.2"
  }
 },
 "nbformat": 4,
 "nbformat_minor": 2
}
