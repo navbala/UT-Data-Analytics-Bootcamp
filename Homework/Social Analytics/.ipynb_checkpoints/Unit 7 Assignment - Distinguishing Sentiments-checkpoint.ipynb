{
 "cells": [
  {
   "cell_type": "code",
   "execution_count": 70,
   "metadata": {
    "collapsed": true
   },
   "outputs": [],
   "source": [
    "# Import deficiencies\n",
    "import pandas as pd\n",
    "import tweepy\n",
    "import json\n",
    "import numpy as np\n",
    "import matplotlib.pyplot as plt\n",
    "import seaborn as sns\n",
    "import time"
   ]
  },
  {
   "cell_type": "code",
   "execution_count": 71,
   "metadata": {
    "collapsed": true
   },
   "outputs": [],
   "source": [
    "# Import and Initialize Sentiment Analyzer\n",
    "from vaderSentiment.vaderSentiment import SentimentIntensityAnalyzer\n",
    "analyzer = SentimentIntensityAnalyzer()"
   ]
  },
  {
   "cell_type": "code",
   "execution_count": 72,
   "metadata": {
    "collapsed": true
   },
   "outputs": [],
   "source": [
    "# Twitter API Keys\n",
    "consumer_key = \"fkxBgq9L4nHMvZOh8sJgWhPxI\"\n",
    "consumer_secret = \"4vbR5Pc69sHkD2rRt4BySnKoknx2YfAr3U3RRKnPhqatISZi8D\"\n",
    "access_token = \"2697326256-8rbvcf2wW0JSdcuS3cyZf6DO8odMbnW5geqytCS\"\n",
    "access_token_secret = \"UEpJXymFPkKZmoanJRVMURa4DodWzaDgZpWY2bLAmIKTd\"\n"
   ]
  },
  {
   "cell_type": "code",
   "execution_count": 73,
   "metadata": {
    "collapsed": true
   },
   "outputs": [],
   "source": [
    "# Setup Tweepy API Authentication\n",
    "auth = tweepy.OAuthHandler(consumer_key, consumer_secret)\n",
    "auth.set_access_token(access_token, access_token_secret)\n",
    "api = tweepy.API(auth, parser=tweepy.parsers.JSONParser())\n"
   ]
  },
  {
   "cell_type": "code",
   "execution_count": 74,
   "metadata": {},
   "outputs": [],
   "source": [
    "# Target news sites for sentiment analysis\n",
    "news_list = [\"@BBC\", \"@CBS\", \"@CNN\", \"@FoxNews\", \"@nytimes\"]\n",
    "\n",
    "# Array to hold setiment\n",
    "sentiments = []"
   ]
  },
  {
   "cell_type": "code",
   "execution_count": 75,
   "metadata": {},
   "outputs": [],
   "source": [
    "# Loop through all target users\n",
    "for target_news in news_list:\n",
    "    \n",
    "    # Counter\n",
    "    counter = 1\n",
    "    \n",
    "    # Loop through 5 pages of tweets (total 100 tweets)\n",
    "    for x in range(5):\n",
    "\n",
    "        # Get all tweets from home feed\n",
    "        public_tweets = api.user_timeline(target_news)\n",
    "        \n",
    "        # Format news org name for df later\n",
    "        news_org = target_news.replace(\"@\", \"\")\n",
    "        \n",
    "        # Loop through all tweets \n",
    "        for tweet in public_tweets:\n",
    "\n",
    "            # Print Tweets\n",
    "            # print(\"Tweet %s: %s\" % (counter, tweet[\"text\"]))\n",
    "\n",
    "            # Run Vader Analysis on each tweet\n",
    "            compound = analyzer.polarity_scores(tweet[\"text\"])[\"compound\"]\n",
    "            #pos = analyzer.polarity_scores(tweet[\"text\"])[\"pos\"]\n",
    "            #neu = analyzer.polarity_scores(tweet[\"text\"])[\"neu\"]\n",
    "            #neg = analyzer.polarity_scores(tweet[\"text\"])[\"neg\"]\n",
    "            tweets_ago = counter\n",
    "\n",
    "            # Add sentiments for each tweet into an array\n",
    "            sentiments.append({\"News Org\": news_org,\n",
    "                               \"Date\": tweet[\"created_at\"], \n",
    "                                \"Compound\": compound,\n",
    "#                                \"Positive\": pos,\n",
    "#                                \"Negative\": neu,\n",
    "#                                \"Neutral\": neg,\n",
    "                               \"Tweets Ago\": counter})\n",
    "\n",
    "            # Add to counter \n",
    "            counter = counter + 1\n",
    "    "
   ]
  },
  {
   "cell_type": "code",
   "execution_count": 76,
   "metadata": {},
   "outputs": [
    {
     "data": {
      "text/html": [
       "<div>\n",
       "<style>\n",
       "    .dataframe thead tr:only-child th {\n",
       "        text-align: right;\n",
       "    }\n",
       "\n",
       "    .dataframe thead th {\n",
       "        text-align: left;\n",
       "    }\n",
       "\n",
       "    .dataframe tbody tr th {\n",
       "        vertical-align: top;\n",
       "    }\n",
       "</style>\n",
       "<table border=\"1\" class=\"dataframe\">\n",
       "  <thead>\n",
       "    <tr style=\"text-align: right;\">\n",
       "      <th></th>\n",
       "      <th>Compound</th>\n",
       "      <th>Date</th>\n",
       "      <th>News Org</th>\n",
       "      <th>Tweets Ago</th>\n",
       "    </tr>\n",
       "  </thead>\n",
       "  <tbody>\n",
       "    <tr>\n",
       "      <th>0</th>\n",
       "      <td>0.0000</td>\n",
       "      <td>Wed Mar 07 19:12:02 +0000 2018</td>\n",
       "      <td>BBC</td>\n",
       "      <td>1</td>\n",
       "    </tr>\n",
       "    <tr>\n",
       "      <th>1</th>\n",
       "      <td>0.0000</td>\n",
       "      <td>Wed Mar 07 18:23:04 +0000 2018</td>\n",
       "      <td>BBC</td>\n",
       "      <td>2</td>\n",
       "    </tr>\n",
       "    <tr>\n",
       "      <th>2</th>\n",
       "      <td>0.4987</td>\n",
       "      <td>Wed Mar 07 17:42:01 +0000 2018</td>\n",
       "      <td>BBC</td>\n",
       "      <td>3</td>\n",
       "    </tr>\n",
       "    <tr>\n",
       "      <th>3</th>\n",
       "      <td>0.0000</td>\n",
       "      <td>Wed Mar 07 17:27:29 +0000 2018</td>\n",
       "      <td>BBC</td>\n",
       "      <td>4</td>\n",
       "    </tr>\n",
       "    <tr>\n",
       "      <th>4</th>\n",
       "      <td>0.0000</td>\n",
       "      <td>Wed Mar 07 17:22:51 +0000 2018</td>\n",
       "      <td>BBC</td>\n",
       "      <td>5</td>\n",
       "    </tr>\n",
       "  </tbody>\n",
       "</table>\n",
       "</div>"
      ],
      "text/plain": [
       "   Compound                            Date News Org  Tweets Ago\n",
       "0    0.0000  Wed Mar 07 19:12:02 +0000 2018      BBC           1\n",
       "1    0.0000  Wed Mar 07 18:23:04 +0000 2018      BBC           2\n",
       "2    0.4987  Wed Mar 07 17:42:01 +0000 2018      BBC           3\n",
       "3    0.0000  Wed Mar 07 17:27:29 +0000 2018      BBC           4\n",
       "4    0.0000  Wed Mar 07 17:22:51 +0000 2018      BBC           5"
      ]
     },
     "execution_count": 76,
     "metadata": {},
     "output_type": "execute_result"
    }
   ],
   "source": [
    "# Convert sentiments to DataFrame\n",
    "sentiments_pd = pd.DataFrame.from_dict(sentiments)\n",
    "sentiments_pd.head()"
   ]
  },
  {
   "cell_type": "code",
   "execution_count": 77,
   "metadata": {},
   "outputs": [
    {
     "data": {
      "image/png": "[encoded data removed]",
      "text/plain": [
       "<matplotlib.figure.Figure at 0x20ed0813a20>"
      ]
     },
     "metadata": {},
     "output_type": "display_data"
    }
   ],
   "source": [
    "# Create plot\n",
    "## MAYBE Create 5 diff df's and plot each on the same scatter plot?\n",
    "\n",
    "# color_map = sentiments[\"News Org\"].map({\"BBC\": \"lightblue\", \"CBS\": \"darkgreen\", \"CNN\": \"red\", \"FoxNews\": \"blue\", \"nytimes\": \"yellow\"})\n",
    "\n",
    "plt.scatter(sentiments_pd[\"Tweets Ago\"],\n",
    "         sentiments_pd[\"Compound\"], c = \"blue\",\n",
    "         edgecolor = \"black\",\n",
    "         alpha=0.8)\n",
    "\n",
    "# # Incorporate the other graph properties\n",
    "plt.title(\"Sentiment Analysis of Media Tweets (%s)\" % (time.strftime(\"%x\")))\n",
    "plt.ylabel(\"Tweet Polarity\")\n",
    "plt.xlabel(\"Tweets Ago\")\n",
    "plt.show()"
   ]
  },
  {
   "cell_type": "code",
   "execution_count": 78,
   "metadata": {},
   "outputs": [
    {
     "data": {
      "text/html": [
       "<div>\n",
       "<style>\n",
       "    .dataframe thead tr:only-child th {\n",
       "        text-align: right;\n",
       "    }\n",
       "\n",
       "    .dataframe thead th {\n",
       "        text-align: left;\n",
       "    }\n",
       "\n",
       "    .dataframe tbody tr th {\n",
       "        vertical-align: top;\n",
       "    }\n",
       "</style>\n",
       "<table border=\"1\" class=\"dataframe\">\n",
       "  <thead>\n",
       "    <tr style=\"text-align: right;\">\n",
       "      <th></th>\n",
       "      <th>News Org</th>\n",
       "      <th>Compound</th>\n",
       "    </tr>\n",
       "  </thead>\n",
       "  <tbody>\n",
       "    <tr>\n",
       "      <th>0</th>\n",
       "      <td>BBC</td>\n",
       "      <td>0.110430</td>\n",
       "    </tr>\n",
       "    <tr>\n",
       "      <th>1</th>\n",
       "      <td>CBS</td>\n",
       "      <td>0.340500</td>\n",
       "    </tr>\n",
       "    <tr>\n",
       "      <th>2</th>\n",
       "      <td>CNN</td>\n",
       "      <td>-0.142115</td>\n",
       "    </tr>\n",
       "    <tr>\n",
       "      <th>3</th>\n",
       "      <td>FoxNews</td>\n",
       "      <td>-0.048200</td>\n",
       "    </tr>\n",
       "    <tr>\n",
       "      <th>4</th>\n",
       "      <td>nytimes</td>\n",
       "      <td>0.049210</td>\n",
       "    </tr>\n",
       "  </tbody>\n",
       "</table>\n",
       "</div>"
      ],
      "text/plain": [
       "  News Org  Compound\n",
       "0      BBC  0.110430\n",
       "1      CBS  0.340500\n",
       "2      CNN -0.142115\n",
       "3  FoxNews -0.048200\n",
       "4  nytimes  0.049210"
      ]
     },
     "execution_count": 78,
     "metadata": {},
     "output_type": "execute_result"
    }
   ],
   "source": [
    "# Create new df that consolidates the compound sentiments for each news org\n",
    "consolidated_sentiments_df = pd.DataFrame(sentiments_pd.groupby([\"News Org\"]).mean()[\"Compound\"])\n",
    "consolidated_sentiments_df = consolidated_sentiments_df.reset_index()\n",
    "consolidated_sentiments_df"
   ]
  },
  {
   "cell_type": "code",
   "execution_count": 79,
   "metadata": {},
   "outputs": [
    {
     "data": {
      "image/png": "[encoded data removed]",
      "text/plain": [
       "<matplotlib.figure.Figure at 0x20ed02462b0>"
      ]
     },
     "metadata": {},
     "output_type": "display_data"
    }
   ],
   "source": [
    "# Create consolidated bar chart\n",
    "plt.bar(np.arange(len(consolidated_sentiments_df[\"News Org\"])), consolidated_sentiments_df[\"Compound\"])\n",
    "\n",
    "# Tell matplotlib where we would like to place each of our x axis headers\n",
    "#tick_locations = [i+0.4 for i in x_axis]\n",
    "#plt.xticks(tick_locations, consolidated_sentiments_df[\"News Org\"])\n",
    "plt.show()"
   ]
  },
  {
   "cell_type": "code",
   "execution_count": null,
   "metadata": {
    "collapsed": true
   },
   "outputs": [],
   "source": []
  }
 ],
 "metadata": {
  "kernelspec": {
   "display_name": "Python 3",
   "language": "python",
   "name": "python3"
  },
  "language_info": {
   "codemirror_mode": {
    "name": "ipython",
    "version": 3
   },
   "file_extension": ".py",
   "mimetype": "text/x-python",
   "name": "python",
   "nbconvert_exporter": "python",
   "pygments_lexer": "ipython3",
   "version": "3.6.2"
  }
 },
 "nbformat": 4,
 "nbformat_minor": 2
}
