{
 "cells": [
  {
   "cell_type": "code",
   "execution_count": 2,
   "metadata": {
    "collapsed": true
   },
   "outputs": [],
   "source": [
    "# Python SQL toolkit and Object Relational Mapper\n",
    "import sqlalchemy\n",
    "from sqlalchemy.ext.automap import automap_base\n",
    "from sqlalchemy.orm import Session\n",
    "from sqlalchemy import create_engine, inspect, func"
   ]
  },
  {
   "cell_type": "code",
   "execution_count": 3,
   "metadata": {
    "collapsed": true
   },
   "outputs": [],
   "source": [
    "import matplotlib\n",
    "#matplotlib.use('nbagg')\n",
    "from matplotlib import style\n",
    "#style.use('fivethirtyeight')\n",
    "import matplotlib.pyplot as plt"
   ]
  },
  {
   "cell_type": "code",
   "execution_count": 4,
   "metadata": {
    "collapsed": true
   },
   "outputs": [],
   "source": [
    "import datetime as dt\n",
    "import pandas as pd"
   ]
  },
  {
   "cell_type": "code",
   "execution_count": 5,
   "metadata": {
    "collapsed": true
   },
   "outputs": [],
   "source": [
    "engine = create_engine(\"sqlite:///hawaii.sqlite\", echo=False)"
   ]
  },
  {
   "cell_type": "code",
   "execution_count": 6,
   "metadata": {},
   "outputs": [
    {
     "data": {
      "text/plain": [
       "[(1, 'USC00519397', '2010-01-01', 0.08, 65),\n",
       " (2, 'USC00519397', '2010-01-02', 0.0, 63),\n",
       " (3, 'USC00519397', '2010-01-03', 0.0, 74),\n",
       " (4, 'USC00519397', '2010-01-04', 0.0, 76),\n",
       " (5, 'USC00519397', '2010-01-07', 0.06, 70)]"
      ]
     },
     "execution_count": 6,
     "metadata": {},
     "output_type": "execute_result"
    }
   ],
   "source": [
    "engine.execute('SELECT * FROM measurements LIMIT 5').fetchall()"
   ]
  },
  {
   "cell_type": "code",
   "execution_count": 7,
   "metadata": {},
   "outputs": [
    {
     "data": {
      "text/plain": [
       "[(1, 'USC00519397', 'WAIKIKI 717.2, HI US', 21.2716, -157.8168, 3.0),\n",
       " (2, 'USC00513117', 'KANEOHE 838.1, HI US', 21.4234, -157.8015, 14.6),\n",
       " (3, 'USC00514830', 'KUALOA RANCH HEADQUARTERS 886.9, HI US', 21.5213, -157.8374, 7.0),\n",
       " (4, 'USC00517948', 'PEARL CITY, HI US', 21.3934, -157.9751, 11.9),\n",
       " (5, 'USC00518838', 'UPPER WAHIAWA 874.3, HI US', 21.4992, -158.0111, 306.6)]"
      ]
     },
     "execution_count": 7,
     "metadata": {},
     "output_type": "execute_result"
    }
   ],
   "source": [
    "engine.execute('SELECT * FROM stations LIMIT 5').fetchall()"
   ]
  },
  {
   "cell_type": "code",
   "execution_count": null,
   "metadata": {
    "collapsed": true
   },
   "outputs": [],
   "source": []
  },
  {
   "cell_type": "code",
   "execution_count": 8,
   "metadata": {},
   "outputs": [
    {
     "data": {
      "text/plain": [
       "['measurements', 'stations']"
      ]
     },
     "execution_count": 8,
     "metadata": {},
     "output_type": "execute_result"
    }
   ],
   "source": [
    "inspector = inspect(engine)\n",
    "inspector.get_table_names()"
   ]
  },
  {
   "cell_type": "code",
   "execution_count": 9,
   "metadata": {
    "collapsed": true
   },
   "outputs": [],
   "source": [
    "# Reflect Database into ORM classes (Station and Measurement)\n",
    "Base = automap_base()\n",
    "Base.prepare(engine, reflect=True)\n",
    "Station = Base.classes.stations\n",
    "Measurement = Base.classes.measurements"
   ]
  },
  {
   "cell_type": "code",
   "execution_count": 10,
   "metadata": {
    "collapsed": true
   },
   "outputs": [],
   "source": [
    "session = Session(engine)"
   ]
  },
  {
   "cell_type": "markdown",
   "metadata": {},
   "source": [
    "## Precipitation Analysis"
   ]
  },
  {
   "cell_type": "code",
   "execution_count": 11,
   "metadata": {},
   "outputs": [
    {
     "data": {
      "text/plain": [
       "('2017-08-23')"
      ]
     },
     "execution_count": 11,
     "metadata": {},
     "output_type": "execute_result"
    }
   ],
   "source": [
    "#Design a query to retrieve the last 12 months of precipitation data.\n",
    "\n",
    "# First, get the most recent date\n",
    "session.query(Measurement.date).\\\n",
    "    order_by(Measurement.date.desc()).first()"
   ]
  },
  {
   "cell_type": "code",
   "execution_count": 12,
   "metadata": {},
   "outputs": [
    {
     "name": "stdout",
     "output_type": "stream",
     "text": [
      "2016-08-23\n"
     ]
    }
   ],
   "source": [
    "# Most recent date in the table is 2017-08-23, so need to get previous 12 months (365 days)\n",
    "query_date = dt.date(2017, 8, 23) - dt.timedelta(days=365)  \n",
    "print(query_date)\n"
   ]
  },
  {
   "cell_type": "code",
   "execution_count": 13,
   "metadata": {
    "collapsed": true
   },
   "outputs": [],
   "source": [
    "# Query for last 12 months of precipitation data\n",
    "prcp_data = session.query(Measurement.date, Measurement.prcp).\\\n",
    "    filter(Measurement.date > query_date).\\\n",
    "    order_by(Measurement.date).all()"
   ]
  },
  {
   "cell_type": "code",
   "execution_count": 14,
   "metadata": {
    "scrolled": true
   },
   "outputs": [
    {
     "data": {
      "image/png": "[encoded data removed]",
      "text/plain": [
       "<matplotlib.figure.Figure at 0x2bd3eaa9320>"
      ]
     },
     "metadata": {},
     "output_type": "display_data"
    }
   ],
   "source": [
    "# Plot the Results in a Matplotlib bar chart\n",
    "### BEGIN SOLUTION\n",
    "df = pd.DataFrame(prcp_data, columns=['date', 'prcp'])\n",
    "df.set_index('date', inplace=True)\n",
    "df.plot.bar()\n",
    "#plt.tight_layout()\n",
    "plt.show()\n",
    "### END SOLUTION"
   ]
  },
  {
   "cell_type": "code",
   "execution_count": 15,
   "metadata": {},
   "outputs": [
    {
     "data": {
      "text/plain": [
       "<bound method NDFrame.describe of             prcp\n",
       "date            \n",
       "2016-08-24  0.08\n",
       "2016-08-24  2.15\n",
       "2016-08-24  2.28\n",
       "2016-08-24  1.22\n",
       "2016-08-24  2.15\n",
       "2016-08-24  1.45\n",
       "2016-08-25  0.08\n",
       "2016-08-25  0.08\n",
       "2016-08-25  0.00\n",
       "2016-08-25  0.00\n",
       "2016-08-25  0.21\n",
       "2016-08-25  0.06\n",
       "2016-08-25  0.11\n",
       "2016-08-26  0.00\n",
       "2016-08-26  0.03\n",
       "2016-08-26  0.02\n",
       "2016-08-26  0.04\n",
       "2016-08-26  0.00\n",
       "2016-08-26  0.01\n",
       "2016-08-27  0.00\n",
       "2016-08-27  0.18\n",
       "2016-08-27  0.02\n",
       "2016-08-27  0.00\n",
       "2016-08-27  0.12\n",
       "2016-08-28  0.01\n",
       "2016-08-28  0.14\n",
       "2016-08-28  0.14\n",
       "2016-08-28  0.14\n",
       "2016-08-28  0.60\n",
       "2016-08-28  2.07\n",
       "...          ...\n",
       "2017-08-15  0.00\n",
       "2017-08-15  0.06\n",
       "2017-08-15  0.32\n",
       "2017-08-15  0.42\n",
       "2017-08-16  0.00\n",
       "2017-08-16  0.07\n",
       "2017-08-16  0.12\n",
       "2017-08-16  0.42\n",
       "2017-08-17  0.00\n",
       "2017-08-17  0.05\n",
       "2017-08-17  0.01\n",
       "2017-08-17  0.13\n",
       "2017-08-18  0.00\n",
       "2017-08-18  0.00\n",
       "2017-08-18  0.06\n",
       "2017-08-19  0.00\n",
       "2017-08-19  0.00\n",
       "2017-08-19  0.09\n",
       "2017-08-20  0.00\n",
       "2017-08-20  0.01\n",
       "2017-08-21  0.00\n",
       "2017-08-21  0.02\n",
       "2017-08-21  0.56\n",
       "2017-08-22  0.00\n",
       "2017-08-22  0.00\n",
       "2017-08-22  0.50\n",
       "2017-08-23  0.00\n",
       "2017-08-23  0.00\n",
       "2017-08-23  0.08\n",
       "2017-08-23  0.45\n",
       "\n",
       "[2015 rows x 1 columns]>"
      ]
     },
     "execution_count": 15,
     "metadata": {},
     "output_type": "execute_result"
    }
   ],
   "source": [
    "# Use Pandas to print the summary statistics for the precipitation data\n",
    "## using describe command\n",
    "\n",
    "df.describe"
   ]
  },
  {
   "cell_type": "code",
   "execution_count": null,
   "metadata": {
    "collapsed": true
   },
   "outputs": [],
   "source": []
  },
  {
   "cell_type": "markdown",
   "metadata": {},
   "source": [
    "## Station Analysis"
   ]
  },
  {
   "cell_type": "code",
   "execution_count": 59,
   "metadata": {},
   "outputs": [
    {
     "data": {
      "text/plain": [
       "[(9)]"
      ]
     },
     "execution_count": 59,
     "metadata": {},
     "output_type": "execute_result"
    }
   ],
   "source": [
    "#Design a query to calculate the total number of stations\n",
    "session.query(func.count(Station.station)).all() "
   ]
  },
  {
   "cell_type": "code",
   "execution_count": 77,
   "metadata": {},
   "outputs": [
    {
     "data": {
      "text/plain": [
       "[('USC00519281', 2772),\n",
       " ('USC00513117', 2696),\n",
       " ('USC00519397', 2685),\n",
       " ('USC00519523', 2572),\n",
       " ('USC00516128', 2484),\n",
       " ('USC00514830', 1937),\n",
       " ('USC00511918', 1932),\n",
       " ('USC00517948', 683),\n",
       " ('USC00518838', 342)]"
      ]
     },
     "execution_count": 77,
     "metadata": {},
     "output_type": "execute_result"
    }
   ],
   "source": [
    "# Design a query to find the most active stations.\n",
    "## List the stations and observation counts in descending order\n",
    "session.query(Measurement.station, func.count(Measurement.station)).\\\n",
    "    group_by(Measurement.station).\\\n",
    "    order_by(func.count(Measurement.station).desc()).all()"
   ]
  },
  {
   "cell_type": "code",
   "execution_count": 80,
   "metadata": {},
   "outputs": [
    {
     "data": {
      "text/plain": [
       "('USC00519281')"
      ]
     },
     "execution_count": 80,
     "metadata": {},
     "output_type": "execute_result"
    }
   ],
   "source": [
    "## Which station has the highest number of observations?\n",
    "session.query(Measurement.station).\\\n",
    "    group_by(Measurement.station).\\\n",
    "    order_by(func.count(Measurement.station).desc()).first()"
   ]
  },
  {
   "cell_type": "code",
   "execution_count": 17,
   "metadata": {},
   "outputs": [
    {
     "data": {
      "text/plain": [
       "[('2017-08-18', 79),\n",
       " ('2017-08-17', 76),\n",
       " ('2017-08-16', 76),\n",
       " ('2017-08-15', 77),\n",
       " ('2017-08-14', 77),\n",
       " ('2017-08-13', 77),\n",
       " ('2017-08-06', 83),\n",
       " ('2017-08-05', 82),\n",
       " ('2017-08-04', 77),\n",
       " ('2017-07-31', 76),\n",
       " ('2017-07-30', 81),\n",
       " ('2017-07-29', 82),\n",
       " ('2017-07-28', 81),\n",
       " ('2017-07-27', 76),\n",
       " ('2017-07-26', 75),\n",
       " ('2017-07-25', 77),\n",
       " ('2017-07-24', 75),\n",
       " ('2017-07-23', 82),\n",
       " ('2017-07-22', 77),\n",
       " ('2017-07-21', 77),\n",
       " ('2017-07-20', 77),\n",
       " ('2017-07-19', 76),\n",
       " ('2017-07-18', 76),\n",
       " ('2017-07-17', 76),\n",
       " ('2017-07-16', 80),\n",
       " ('2017-07-15', 80),\n",
       " ('2017-07-14', 76),\n",
       " ('2017-07-13', 74),\n",
       " ('2017-07-12', 74),\n",
       " ('2017-07-11', 72),\n",
       " ('2017-07-10', 69),\n",
       " ('2017-07-09', 78),\n",
       " ('2017-07-08', 78),\n",
       " ('2017-07-07', 75),\n",
       " ('2017-07-06', 74),\n",
       " ('2017-07-05', 77),\n",
       " ('2017-07-04', 78),\n",
       " ('2017-07-03', 76),\n",
       " ('2017-07-02', 81),\n",
       " ('2017-07-01', 79),\n",
       " ('2017-06-30', 76),\n",
       " ('2017-06-29', 76),\n",
       " ('2017-06-28', 77),\n",
       " ('2017-06-27', 76),\n",
       " ('2017-06-26', 73),\n",
       " ('2017-06-25', 71),\n",
       " ('2017-06-24', 77),\n",
       " ('2017-06-23', 72),\n",
       " ('2017-06-22', 72),\n",
       " ('2017-06-21', 74),\n",
       " ('2017-06-20', 72),\n",
       " ('2017-06-19', 72),\n",
       " ('2017-06-18', 75),\n",
       " ('2017-06-17', 79),\n",
       " ('2017-06-16', 73),\n",
       " ('2017-06-15', 75),\n",
       " ('2017-06-14', 74),\n",
       " ('2017-06-13', 76),\n",
       " ('2017-06-12', 74),\n",
       " ('2017-06-11', 74),\n",
       " ('2017-06-10', 74),\n",
       " ('2017-06-09', 72),\n",
       " ('2017-06-08', 75),\n",
       " ('2017-06-07', 75),\n",
       " ('2017-06-06', 75),\n",
       " ('2017-06-05', 75),\n",
       " ('2017-06-04', 77),\n",
       " ('2017-06-03', 76),\n",
       " ('2017-06-02', 76),\n",
       " ('2017-06-01', 80),\n",
       " ('2017-05-31', 75),\n",
       " ('2017-05-30', 72),\n",
       " ('2017-05-29', 74),\n",
       " ('2017-05-28', 80),\n",
       " ('2017-05-27', 74),\n",
       " ('2017-05-26', 74),\n",
       " ('2017-05-25', 74),\n",
       " ('2017-05-24', 74),\n",
       " ('2017-05-23', 71),\n",
       " ('2017-05-22', 71),\n",
       " ('2017-05-21', 74),\n",
       " ('2017-05-20', 76),\n",
       " ('2017-05-19', 68),\n",
       " ('2017-05-18', 69),\n",
       " ('2017-05-17', 74),\n",
       " ('2017-05-16', 74),\n",
       " ('2017-05-15', 74),\n",
       " ('2017-05-14', 77),\n",
       " ('2017-05-13', 76),\n",
       " ('2017-05-12', 75),\n",
       " ('2017-05-11', 70),\n",
       " ('2017-05-10', 74),\n",
       " ('2017-05-09', 67),\n",
       " ('2017-05-08', 70),\n",
       " ('2017-05-07', 75),\n",
       " ('2017-05-06', 79),\n",
       " ('2017-05-05', 70),\n",
       " ('2017-05-04', 75),\n",
       " ('2017-05-03', 70),\n",
       " ('2017-05-02', 75),\n",
       " ('2017-05-01', 65),\n",
       " ('2017-04-30', 60),\n",
       " ('2017-04-29', 72),\n",
       " ('2017-04-28', 67),\n",
       " ('2017-04-27', 70),\n",
       " ('2017-04-26', 74),\n",
       " ('2017-04-25', 72),\n",
       " ('2017-04-24', 68),\n",
       " ('2017-04-23', 76),\n",
       " ('2017-04-22', 72),\n",
       " ('2017-04-21', 69),\n",
       " ('2017-04-20', 76),\n",
       " ('2017-04-19', 67),\n",
       " ('2017-04-18', 68),\n",
       " ('2017-04-17', 67),\n",
       " ('2017-04-16', 71),\n",
       " ('2017-04-15', 78),\n",
       " ('2017-04-14', 74),\n",
       " ('2017-04-13', 69),\n",
       " ('2017-04-12', 69),\n",
       " ('2017-04-11', 70),\n",
       " ('2017-04-10', 67),\n",
       " ('2017-04-09', 78),\n",
       " ('2017-04-08', 77),\n",
       " ('2017-04-07', 74),\n",
       " ('2017-04-06', 67),\n",
       " ('2017-04-05', 71),\n",
       " ('2017-04-04', 67),\n",
       " ('2017-04-03', 70),\n",
       " ('2017-04-02', 75),\n",
       " ('2017-04-01', 74),\n",
       " ('2017-03-31', 71),\n",
       " ('2017-03-30', 73),\n",
       " ('2017-03-29', 68),\n",
       " ('2017-03-28', 74),\n",
       " ('2017-03-27', 76),\n",
       " ('2017-03-26', 77),\n",
       " ('2017-03-25', 76),\n",
       " ('2017-03-24', 71),\n",
       " ('2017-03-23', 72),\n",
       " ('2017-03-22', 73),\n",
       " ('2017-03-21', 72),\n",
       " ('2017-03-20', 69),\n",
       " ('2017-03-19', 74),\n",
       " ('2017-03-18', 65),\n",
       " ('2017-03-17', 68),\n",
       " ('2017-03-16', 66),\n",
       " ('2017-03-15', 69),\n",
       " ('2017-03-14', 67),\n",
       " ('2017-03-13', 66),\n",
       " ('2017-03-12', 69),\n",
       " ('2017-03-11', 81),\n",
       " ('2017-03-10', 66),\n",
       " ('2017-03-09', 67),\n",
       " ('2017-03-08', 64),\n",
       " ('2017-03-07', 62),\n",
       " ('2017-03-06', 67),\n",
       " ('2017-03-05', 73),\n",
       " ('2017-03-04', 77),\n",
       " ('2017-03-03', 72),\n",
       " ('2017-03-02', 73),\n",
       " ('2017-03-01', 71),\n",
       " ('2017-02-28', 72),\n",
       " ('2017-02-27', 65),\n",
       " ('2017-02-26', 67),\n",
       " ('2017-02-25', 61),\n",
       " ('2017-02-24', 69),\n",
       " ('2017-02-23', 71),\n",
       " ('2017-02-22', 71),\n",
       " ('2017-02-21', 71),\n",
       " ('2017-02-20', 70),\n",
       " ('2017-02-19', 70),\n",
       " ('2017-02-18', 74),\n",
       " ('2017-02-17', 70),\n",
       " ('2017-02-16', 65),\n",
       " ('2017-02-15', 75),\n",
       " ('2017-02-14', 79),\n",
       " ('2017-02-13', 73),\n",
       " ('2017-02-12', 70),\n",
       " ('2017-02-11', 68),\n",
       " ('2017-02-10', 62),\n",
       " ('2017-02-09', 59),\n",
       " ('2017-02-08', 59),\n",
       " ('2017-02-07', 64),\n",
       " ('2017-02-06', 75),\n",
       " ('2017-02-05', 73),\n",
       " ('2017-02-04', 70),\n",
       " ('2017-02-03', 60),\n",
       " ('2017-02-02', 59),\n",
       " ('2017-02-01', 68),\n",
       " ('2017-01-31', 68),\n",
       " ('2017-01-30', 68),\n",
       " ('2017-01-29', 69),\n",
       " ('2017-01-28', 65),\n",
       " ('2017-01-27', 66),\n",
       " ('2017-01-26', 70),\n",
       " ('2017-01-25', 69),\n",
       " ('2017-01-24', 72),\n",
       " ('2017-01-23', 72),\n",
       " ('2017-01-22', 71),\n",
       " ('2017-01-21', 71),\n",
       " ('2017-01-20', 69),\n",
       " ('2017-01-19', 71),\n",
       " ('2017-01-18', 72),\n",
       " ('2017-01-17', 69),\n",
       " ('2017-01-16', 74),\n",
       " ('2017-01-15', 70),\n",
       " ('2017-01-14', 77),\n",
       " ('2017-01-13', 69),\n",
       " ('2017-01-12', 65),\n",
       " ('2017-01-11', 63),\n",
       " ('2017-01-10', 62),\n",
       " ('2017-01-09', 62),\n",
       " ('2017-01-08', 70),\n",
       " ('2017-01-07', 70),\n",
       " ('2017-01-06', 62),\n",
       " ('2017-01-05', 63),\n",
       " ('2017-01-04', 63),\n",
       " ('2017-01-03', 64),\n",
       " ('2017-01-02', 70),\n",
       " ('2017-01-01', 72),\n",
       " ('2016-12-31', 67),\n",
       " ('2016-12-30', 69),\n",
       " ('2016-12-29', 74),\n",
       " ('2016-12-28', 72),\n",
       " ('2016-12-27', 71),\n",
       " ('2016-12-26', 72),\n",
       " ('2016-12-25', 74),\n",
       " ('2016-12-24', 74),\n",
       " ('2016-12-23', 71),\n",
       " ('2016-12-22', 73),\n",
       " ('2016-12-21', 74),\n",
       " ('2016-12-20', 76),\n",
       " ('2016-12-19', 76),\n",
       " ('2016-12-18', 69),\n",
       " ('2016-12-17', 70),\n",
       " ('2016-12-16', 75),\n",
       " ('2016-12-15', 62),\n",
       " ('2016-12-14', 68),\n",
       " ('2016-12-13', 65),\n",
       " ('2016-12-12', 66),\n",
       " ('2016-12-11', 69),\n",
       " ('2016-12-10', 69),\n",
       " ('2016-12-09', 68),\n",
       " ('2016-12-08', 70),\n",
       " ('2016-12-07', 69),\n",
       " ('2016-12-06', 67),\n",
       " ('2016-12-05', 67),\n",
       " ('2016-12-04', 70),\n",
       " ('2016-12-03', 72),\n",
       " ('2016-12-02', 70),\n",
       " ('2016-12-01', 74),\n",
       " ('2016-11-30', 73),\n",
       " ('2016-11-29', 73),\n",
       " ('2016-11-28', 75),\n",
       " ('2016-11-27', 73),\n",
       " ('2016-11-26', 75),\n",
       " ('2016-11-25', 74),\n",
       " ('2016-11-24', 75),\n",
       " ('2016-11-23', 74),\n",
       " ('2016-11-22', 75),\n",
       " ('2016-11-21', 73),\n",
       " ('2016-11-20', 75),\n",
       " ('2016-11-19', 73),\n",
       " ('2016-11-18', 75),\n",
       " ('2016-11-17', 76),\n",
       " ('2016-11-16', 75),\n",
       " ('2016-11-15', 76),\n",
       " ('2016-11-14', 76),\n",
       " ('2016-11-13', 77),\n",
       " ('2016-11-12', 74),\n",
       " ('2016-11-11', 77),\n",
       " ('2016-11-10', 67),\n",
       " ('2016-11-09', 68),\n",
       " ('2016-11-08', 70),\n",
       " ('2016-11-07', 63),\n",
       " ('2016-11-06', 71),\n",
       " ('2016-11-05', 75),\n",
       " ('2016-11-04', 75),\n",
       " ('2016-11-03', 75),\n",
       " ('2016-11-02', 75),\n",
       " ('2016-11-01', 74),\n",
       " ('2016-10-31', 76),\n",
       " ('2016-10-30', 76),\n",
       " ('2016-10-29', 77),\n",
       " ('2016-10-28', 74),\n",
       " ('2016-10-27', 76),\n",
       " ('2016-10-26', 73),\n",
       " ('2016-10-25', 76),\n",
       " ('2016-10-24', 75),\n",
       " ('2016-10-23', 74),\n",
       " ('2016-10-22', 77),\n",
       " ('2016-10-21', 78),\n",
       " ('2016-10-20', 78),\n",
       " ('2016-10-19', 78),\n",
       " ('2016-10-18', 78),\n",
       " ('2016-10-17', 77),\n",
       " ('2016-10-16', 79),\n",
       " ('2016-10-15', 77),\n",
       " ('2016-10-14', 79),\n",
       " ('2016-10-13', 78),\n",
       " ('2016-10-12', 79),\n",
       " ('2016-10-11', 77),\n",
       " ('2016-10-10', 71),\n",
       " ('2016-10-09', 72),\n",
       " ('2016-10-08', 73),\n",
       " ('2016-10-07', 76),\n",
       " ('2016-10-06', 75),\n",
       " ('2016-10-05', 79),\n",
       " ('2016-10-04', 79),\n",
       " ('2016-10-03', 79),\n",
       " ('2016-10-02', 79),\n",
       " ('2016-10-01', 77),\n",
       " ('2016-09-30', 78),\n",
       " ('2016-09-29', 78),\n",
       " ('2016-09-28', 78),\n",
       " ('2016-09-27', 80),\n",
       " ('2016-09-26', 77),\n",
       " ('2016-09-25', 79),\n",
       " ('2016-09-24', 79),\n",
       " ('2016-09-23', 78),\n",
       " ('2016-09-22', 77),\n",
       " ('2016-09-21', 74),\n",
       " ('2016-09-20', 76),\n",
       " ('2016-09-19', 78),\n",
       " ('2016-09-18', 78),\n",
       " ('2016-09-17', 79),\n",
       " ('2016-09-16', 78),\n",
       " ('2016-09-15', 79),\n",
       " ('2016-09-14', 75),\n",
       " ('2016-09-13', 79),\n",
       " ('2016-09-12', 76),\n",
       " ('2016-09-11', 80),\n",
       " ('2016-09-10', 77),\n",
       " ('2016-09-09', 79),\n",
       " ('2016-09-08', 80),\n",
       " ('2016-09-07', 74),\n",
       " ('2016-09-06', 73),\n",
       " ('2016-09-05', 78),\n",
       " ('2016-09-04', 78),\n",
       " ('2016-09-03', 78),\n",
       " ('2016-09-02', 80),\n",
       " ('2016-09-01', 80),\n",
       " ('2016-08-31', 78),\n",
       " ('2016-08-30', 77),\n",
       " ('2016-08-29', 78),\n",
       " ('2016-08-28', 73),\n",
       " ('2016-08-27', 75),\n",
       " ('2016-08-26', 80),\n",
       " ('2016-08-25', 80),\n",
       " ('2016-08-24', 77)]"
      ]
     },
     "execution_count": 17,
     "metadata": {},
     "output_type": "execute_result"
    }
   ],
   "source": [
    "# Design a query to retrieve the last 12 months of temperature observation data (tobs).\n",
    "## Filter by the station with the highest number of observations.\n",
    "session.query(Measurement.date, Measurement.tobs).\\\n",
    "    filter(Measurement.date > query_date, Measurement.station == \"USC00519281\" ).\\\n",
    "    order_by(Measurement.date.desc()).all()\n"
   ]
  },
  {
   "cell_type": "code",
   "execution_count": null,
   "metadata": {
    "collapsed": true
   },
   "outputs": [],
   "source": [
    "## Plot the results as a histogram with bins=12.\n",
    "\n"
   ]
  }
 ],
 "metadata": {
  "kernelspec": {
   "display_name": "Python 3",
   "language": "python",
   "name": "python3"
  },
  "language_info": {
   "codemirror_mode": {
    "name": "ipython",
    "version": 3
   },
   "file_extension": ".py",
   "mimetype": "text/x-python",
   "name": "python",
   "nbconvert_exporter": "python",
   "pygments_lexer": "ipython3",
   "version": "3.6.2"
  }
 },
 "nbformat": 4,
 "nbformat_minor": 2
}
